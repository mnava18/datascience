{
 "cells": [
  {
   "cell_type": "code",
   "execution_count": 4,
   "metadata": {
    "collapsed": true
   },
   "outputs": [],
   "source": [
    "from sklearn.linear_model import LogisticRegression\n",
    "from sklearn.cross_validation import train_test_split\n",
    "from sklearn.metrics import accuracy_score\n",
    "from sklearn import metrics\n",
    "from sklearn import preprocessing\n",
    "from sklearn.preprocessing import label_binarize\n",
    "from sklearn.linear_model import LinearRegression\n",
    "from sklearn.neighbors import KNeighborsClassifier\n",
    "from sklearn.metrics import log_loss\n",
    "from sklearn.naive_bayes import BernoulliNB\n",
    "from matplotlib import style\n",
    "import matplotlib.pyplot as pl\n",
    "import matplotlib.pyplot as plt\n",
    "import numpy as np\n",
    "import pandas as pd\n",
    "import seaborn as sns\n",
    "%matplotlib inline"
   ]
  },
  {
   "cell_type": "code",
   "execution_count": 5,
   "metadata": {
    "collapsed": false
   },
   "outputs": [],
   "source": [
    "#reading in the test and target data\n",
    "# training and test must match column wise\n",
    "train=pd.read_csv('/Users/sawada/Dropbox/fall2016/cs4661/hw/final-project/weather/weather_1.csv',parse_dates = ['Dates'])\n",
    "test=pd.read_csv(\"/Users/sawada/Dropbox/fall2016/cs4661/hw/final-project/test.csv\",parse_dates = ['Dates'])\n",
    "# test.head()\n",
    "\n",
    "# train.isnull().sum()"
   ]
  },
  {
   "cell_type": "code",
   "execution_count": 6,
   "metadata": {
    "collapsed": false
   },
   "outputs": [
    {
     "data": {
      "text/plain": [
       "array([0, 1, 2, 3, 4, 5, 6, 7, 8, 9, 10, 11, 12, 13, 14, 15, 16, 17, 18,\n",
       "       19, 20, 21, 22, 23, 'Friday', 'Monday', 'Saturday', 'Sunday',\n",
       "       'Tuesday', 'Wednesday', 'BAYVIEW', 'CENTRAL', 'INGLESIDE',\n",
       "       'MISSION', 'NORTHERN', 'PARK', 'RICHMOND', 'SOUTHERN', 'TARAVAL',\n",
       "       'TENDERLOIN', 'ARREST, BOOKED', 'ARREST, CITED',\n",
       "       'CLEARED-CONTACT JUVENILE FOR MORE INFO', 'EXCEPTIONAL CLEARANCE',\n",
       "       'JUVENILE BOOKED', 'LOCATED', 'NONE', 'PSYCHOPATHIC CASE',\n",
       "       'UNFOUNDED', 'crime'], dtype=object)"
      ]
     },
     "execution_count": 6,
     "metadata": {},
     "output_type": "execute_result"
    }
   ],
   "source": [
    "# TRAINING data\n",
    "#Convert crime labels to numbers\n",
    "df_crime = preprocessing.LabelEncoder()\n",
    "crime = df_crime.fit_transform(train.Category)\n",
    "#Get binarized resolution, weatherDesc, weekdays, districts, and hours using dummy variables\n",
    "days = pd.get_dummies(train.DayOfWeek)\n",
    "\n",
    "district = pd.get_dummies(train.PdDistrict)\n",
    "resolution = pd.get_dummies(train.Resolution)\n",
    "\n",
    "hour = train.Dates.dt.hour\n",
    "hour = pd.get_dummies(hour)\n",
    "#Build new array\n",
    "train_data = pd.concat([hour, days, district, resolution], axis=1)\n",
    "train_data['crime']=crime\n",
    "\n",
    "train_data.columns.values\n",
    "# days.head()"
   ]
  },
  {
   "cell_type": "code",
   "execution_count": 10,
   "metadata": {
    "collapsed": false
   },
   "outputs": [
    {
     "name": "stdout",
     "output_type": "stream",
     "text": [
      "['Friday', 'Monday', 'Saturday', 'Sunday', 'Thursday', 'Tuesday', 'Wednesday', 'BAYVIEW', 'CENTRAL', 'INGLESIDE', 'MISSION', 'NORTHERN', 'PARK', 'RICHMOND', 'SOUTHERN', 'TARAVAL', 'TENDERLOIN']\n"
     ]
    }
   ],
   "source": [
    "features = ['Friday', 'Monday', 'Saturday', 'Sunday', 'Thursday', 'Tuesday',\n",
    " 'Wednesday', 'BAYVIEW', 'CENTRAL', 'INGLESIDE', 'MISSION',\n",
    " 'NORTHERN', 'PARK', 'RICHMOND', 'SOUTHERN', 'TARAVAL', 'TENDERLOIN']\n",
    "\n",
    "print(features)\n",
    " \n",
    "features2 = [x for x in range(0,24)]\n",
    "features = train_data.columns.values.tolist()\n",
    "    \n",
    "training, testing = train_test_split(train_data, train_size=.50) "
   ]
  },
  {
   "cell_type": "markdown",
   "metadata": {
    "collapsed": true
   },
   "source": [
    "## log_loss"
   ]
  },
  {
   "cell_type": "code",
   "execution_count": 11,
   "metadata": {
    "collapsed": false
   },
   "outputs": [
    {
     "name": "stdout",
     "output_type": "stream",
     "text": [
      "2.16557043533\n"
     ]
    }
   ],
   "source": [
    "#For this competition the metric used to rate the performance of the model\n",
    "#is the multi-class log_loss — smaller values of this loss correspond to improved performance.\n",
    "#Logistic Regression for comparison closer to 0 the better , cant use accuracy for regressions\n",
    "model_lr = LogisticRegression()\n",
    "model_lr.fit(training[features], training['crime'])\n",
    "predicted1 = np.array(model_lr.predict_proba(testing[features]))\n",
    "print(log_loss(testing['crime'], predicted1))"
   ]
  },
  {
   "cell_type": "code",
   "execution_count": 12,
   "metadata": {
    "collapsed": false
   },
   "outputs": [
    {
     "name": "stdout",
     "output_type": "stream",
     "text": [
      "[[  6.51228027e-13   9.43566112e-11   3.16778666e-02 ...,   3.64226972e-02\n",
      "    3.46568412e-03   7.79914684e-03]\n",
      " [  7.71174434e-13   4.86205457e-11   2.74172944e-02 ...,   2.83805480e-02\n",
      "    2.77222891e-03   4.38729681e-03]\n",
      " [  8.47562904e-13   1.01002198e-10   2.05351511e-02 ...,   2.08115551e-02\n",
      "    2.61602946e-03   4.46362154e-03]\n",
      " ..., \n",
      " [  3.52697297e-27   5.40186428e-25   3.20263812e-05 ...,   2.40910449e-01\n",
      "    2.71662262e-02   1.35266406e-02]\n",
      " [  6.06983056e-16   1.37594195e-13   7.52258453e-03 ...,   1.88949641e-02\n",
      "    8.89563638e-03   1.24110263e-02]\n",
      " [  3.48274753e-11   7.90864906e-09   7.20814428e-02 ...,   3.46712611e-03\n",
      "    1.75447820e-03   2.30534750e-03]]\n"
     ]
    }
   ],
   "source": [
    "print(predicted1)"
   ]
  },
  {
   "cell_type": "markdown",
   "metadata": {},
   "source": [
    "### KNN"
   ]
  },
  {
   "cell_type": "code",
   "execution_count": 56,
   "metadata": {
    "collapsed": false
   },
   "outputs": [
    {
     "name": "stdout",
     "output_type": "stream",
     "text": [
      "[0, 1, 2, 3, 4, 5, 6, 7, 8, 9, 10, 11, 12, 13, 14, 15, 16, 17, 18, 19, 20, 21, 22, 23, 'Friday', 'Monday', 'Saturday', 'Sunday', 'Tuesday', 'Wednesday', 'BAYVIEW', 'CENTRAL', 'INGLESIDE', 'MISSION', 'NORTHERN', 'PARK', 'RICHMOND', 'SOUTHERN', 'TARAVAL', 'TENDERLOIN', 'ARREST, BOOKED', 'ARREST, CITED', 'CLEARED-CONTACT JUVENILE FOR MORE INFO', 'EXCEPTIONAL CLEARANCE', 'JUVENILE BOOKED', 'LOCATED', 'NONE', 'PSYCHOPATHIC CASE', 'UNFOUNDED', 'crime']\n",
      "(2096,) (2096, 50)\n",
      "Accuracy Score:  0.898688915375\n"
     ]
    }
   ],
   "source": [
    "print(training.columns.values.tolist())\n",
    "train_X =  train_data[training.columns.values.tolist()]\n",
    "train_y = train_data['crime']\n",
    "\n",
    "print(train_y.shape, train_X.shape)\n",
    "# split data into training and testing set\n",
    "X_train, X_test, y_train, y_test = train_test_split(train_X, train_y, test_size=0.4, random_state=1)\n",
    "    \n",
    "    \n",
    "\n",
    "knn = KNeighborsClassifier( n_neighbors = 10 ) \n",
    "knn.fit( train_X, train_y )\n",
    "y_predict = knn.predict(X_test)\n",
    "score = accuracy_score(y_test, y_predict)\n",
    "    \n",
    "print('Accuracy Score: ', score)\n",
    "#     accuracies.append(score)\n",
    "    \n",
    "# for i, a in enumerate(accuracies):\n",
    "#     print('k = ' + str(k_list[i]) + ', Accuracy Score: ' + str(acc[i])) #Printing the scores"
   ]
  },
  {
   "cell_type": "markdown",
   "metadata": {},
   "source": [
    "### Iterate through various k-values to train the model.\n",
    "_Note_: Instantiate a KNN object with different k value in each iteration."
   ]
  },
  {
   "cell_type": "code",
   "execution_count": 55,
   "metadata": {
    "collapsed": false
   },
   "outputs": [
    {
     "name": "stdout",
     "output_type": "stream",
     "text": [
      "k = 1, Accuracy Score: 0.878426698451\n",
      "k = 5, Accuracy Score: 0.880810488677\n",
      "k = 10, Accuracy Score: 0.908224076281\n",
      "k = 20, Accuracy Score: 0.902264600715\n",
      "k = 40, Accuracy Score: 0.809296781883\n",
      "k = 80, Accuracy Score: 0.81168057211\n",
      "k = 150, Accuracy Score: 0.631704410012\n",
      "k = 200, Accuracy Score: 0.624553039333\n"
     ]
    }
   ],
   "source": [
    "k_list = [1,5,10,20,40,80,150,200]\n",
    "accuracies = []\n",
    "\n",
    "for k in k_list:\n",
    "    knn = KNeighborsClassifier( n_neighbors = k )\n",
    "    knn.fit( X_train, y_train )\n",
    "    y_predict = knn.predict(X_test)\n",
    "    score = accuracy_score(y_test, y_predict)\n",
    "    \n",
    "    accuracies.append(score)\n",
    "    \n",
    "for i, a in enumerate(accuracies):\n",
    "        print('k = ' + str(k_list[i]) + ', Accuracy Score: ' + str(accuracies[i])) "
   ]
  },
  {
   "cell_type": "markdown",
   "metadata": {},
   "source": [
    "## Naive Bayes"
   ]
  },
  {
   "cell_type": "code",
   "execution_count": 13,
   "metadata": {
    "collapsed": false
   },
   "outputs": [
    {
     "data": {
      "text/plain": [
       "4.0107469470477701"
      ]
     },
     "execution_count": 13,
     "metadata": {},
     "output_type": "execute_result"
    }
   ],
   "source": [
    "#bernoulliNB\n",
    "# predicting only on the training data\n",
    "model_B = BernoulliNB()\n",
    "model_B.fit(training[features], training['crime'])\n",
    "predicted2 = np.array(model_B.predict_proba(testing[features]))\n",
    "log_loss(testing['crime'], predicted2)"
   ]
  },
  {
   "cell_type": "code",
   "execution_count": null,
   "metadata": {
    "collapsed": true
   },
   "outputs": [],
   "source": []
  }
 ],
 "metadata": {
  "anaconda-cloud": {},
  "kernelspec": {
   "display_name": "Python [Root]",
   "language": "python",
   "name": "Python [Root]"
  },
  "language_info": {
   "codemirror_mode": {
    "name": "ipython",
    "version": 3
   },
   "file_extension": ".py",
   "mimetype": "text/x-python",
   "name": "python",
   "nbconvert_exporter": "python",
   "pygments_lexer": "ipython3",
   "version": "3.5.2"
  }
 },
 "nbformat": 4,
 "nbformat_minor": 0
}
