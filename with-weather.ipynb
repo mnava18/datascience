{
 "cells": [
  {
   "cell_type": "code",
   "execution_count": 6,
   "metadata": {
    "collapsed": true
   },
   "outputs": [],
   "source": [
    "from sklearn.linear_model import LogisticRegression\n",
    "from sklearn.cross_validation import train_test_split\n",
    "from sklearn.metrics import accuracy_score\n",
    "from sklearn import metrics\n",
    "from sklearn import preprocessing\n",
    "from sklearn.preprocessing import label_binarize\n",
    "from sklearn.linear_model import LinearRegression\n",
    "from sklearn.neighbors import KNeighborsClassifier\n",
    "from sklearn.metrics import log_loss\n",
    "from sklearn.naive_bayes import BernoulliNB\n",
    "from matplotlib import style\n",
    "import matplotlib.pyplot as pl\n",
    "import matplotlib.pyplot as plt\n",
    "import numpy as np\n",
    "import pandas as pd\n",
    "import seaborn as sns\n",
    "%matplotlib inline"
   ]
  },
  {
   "cell_type": "code",
   "execution_count": 7,
   "metadata": {
    "collapsed": false
   },
   "outputs": [],
   "source": [
    "#reading in the test and target data\n",
    "# training and test must match column wise\n",
    "train=pd.read_csv('/Users/sawada/Dropbox/fall2016/cs4661/hw/final-project/weather/weather_1.csv',parse_dates = ['Dates'])\n",
    "test=pd.read_csv(\"/Users/sawada/Dropbox/fall2016/cs4661/hw/final-project/test.csv\",parse_dates = ['Dates'])\n",
    "\n",
    "# test.head()"
   ]
  },
  {
   "cell_type": "code",
   "execution_count": 8,
   "metadata": {
    "collapsed": false
   },
   "outputs": [
    {
     "data": {
      "text/plain": [
       "array([0, 1, 2, 3, 4, 5, 6, 7, 8, 9, 10, 11, 12, 13, 14, 15, 16, 17, 18,\n",
       "       19, 20, 21, 22, 23, 'Friday', 'Monday', 'Saturday', 'Sunday',\n",
       "       'Tuesday', 'Wednesday', 'BAYVIEW', 'CENTRAL', 'INGLESIDE',\n",
       "       'MISSION', 'NORTHERN', 'PARK', 'RICHMOND', 'SOUTHERN', 'TARAVAL',\n",
       "       'TENDERLOIN', 'ARREST, BOOKED', 'ARREST, CITED',\n",
       "       'CLEARED-CONTACT JUVENILE FOR MORE INFO', 'EXCEPTIONAL CLEARANCE',\n",
       "       'JUVENILE BOOKED', 'LOCATED', 'NONE', 'PSYCHOPATHIC CASE',\n",
       "       'UNFOUNDED', '0', '32', \"[{'value': 'Clear'}]\",\n",
       "       \"[{'value': 'Cloudy'}]\", \"[{'value': 'Light rain shower'}]\",\n",
       "       \"[{'value': 'Overcast'}]\", \"[{'value': 'Partly cloudy'}]\",\n",
       "       \"[{'value': 'Patchy rain possible'}]\", \"[{'value': 'Sunny'}]\",\n",
       "       'crime'], dtype=object)"
      ]
     },
     "execution_count": 8,
     "metadata": {},
     "output_type": "execute_result"
    }
   ],
   "source": [
    "# TRAINING data\n",
    "#Convert crime labels to numbers\n",
    "df_crime = preprocessing.LabelEncoder()\n",
    "crime = df_crime.fit_transform(train.Category)\n",
    "#Get binarized resolution, weatherDesc, weekdays, districts, and hours using dummy variables\n",
    "days = pd.get_dummies(train.DayOfWeek)\n",
    "\n",
    "district = pd.get_dummies(train.PdDistrict)\n",
    "resolution = pd.get_dummies(train.Resolution)\n",
    "weatherDesc = pd.get_dummies(train.weatherDesc)  \n",
    "\n",
    "hour = train.Dates.dt.hour\n",
    "hour = pd.get_dummies(hour)\n",
    "#Build new array\n",
    "train_data = pd.concat([hour, days, district, resolution, weatherDesc], axis=1)\n",
    "train_data['crime']=crime\n",
    "\n",
    "# resolution.columns.values\n",
    "# weatherDesc.columns.values\n",
    "# weatherDesc.head()\n",
    "\n",
    "# features00 = ['DewPointC', 'DewPointF', 'FeelsLikeC', 'FeelsLikeF','HeatIndexC', 'HeatIndexF', 'PdDistrict', 'Resolution']\n",
    "# features000= ['Unnamed: 0.1', 'WindChillC', 'WindChillF', 'WindGustKmph','WindGustMiles', 'X', 'Y', 'cloudcover', 'humidity']\n",
    "# features0000= ['precipMM','pressure', 'tempC', 'tempF', 'time', 'visibility', 'weatherCode','weatherDesc', 'winddirDegree','windspeedKmph','windspeedMiles']\n",
    "\n",
    "# features0 = resolution.columns.values + weatherDesc.columns.values\n",
    "# features0 = features0.tolist()\n",
    "train_data.columns.values\n",
    "# days.head()"
   ]
  },
  {
   "cell_type": "code",
   "execution_count": 12,
   "metadata": {
    "collapsed": true
   },
   "outputs": [],
   "source": [
    "\n",
    "# #Repeat for test data\n",
    "# days = pd.get_dummies(test.DayOfWeek)\n",
    "# district = pd.get_dummies(test.PdDistrict)\n",
    " \n",
    "# hour = test.Dates.dt.hour\n",
    "# hour = pd.get_dummies(hour) \n",
    " \n",
    "# test_data = pd.concat([hour, days, district], axis=1)"
   ]
  },
  {
   "cell_type": "code",
   "execution_count": 20,
   "metadata": {
    "collapsed": false
   },
   "outputs": [
    {
     "name": "stdout",
     "output_type": "stream",
     "text": [
      "[array([0, 1, 2, 3, 4, 5, 6, 7, 8, 9, 10, 11, 12, 13, 14, 15, 16, 17, 18,\n",
      "       19, 20, 21, 22, 23, 'Friday', 'Monday', 'Saturday', 'Sunday',\n",
      "       'Tuesday', 'Wednesday', 'BAYVIEW', 'CENTRAL', 'INGLESIDE',\n",
      "       'MISSION', 'NORTHERN', 'PARK', 'RICHMOND', 'SOUTHERN', 'TARAVAL',\n",
      "       'TENDERLOIN', 'ARREST, BOOKED', 'ARREST, CITED',\n",
      "       'CLEARED-CONTACT JUVENILE FOR MORE INFO', 'EXCEPTIONAL CLEARANCE',\n",
      "       'JUVENILE BOOKED', 'LOCATED', 'NONE', 'PSYCHOPATHIC CASE',\n",
      "       'UNFOUNDED', '0', '32', \"[{'value': 'Clear'}]\",\n",
      "       \"[{'value': 'Cloudy'}]\", \"[{'value': 'Light rain shower'}]\",\n",
      "       \"[{'value': 'Overcast'}]\", \"[{'value': 'Partly cloudy'}]\",\n",
      "       \"[{'value': 'Patchy rain possible'}]\", \"[{'value': 'Sunny'}]\",\n",
      "       'crime'], dtype=object)]\n",
      "(1048, 59) \n",
      "\n",
      " (1048, 59)\n"
     ]
    }
   ],
   "source": [
    "features = [train_data.columns.values]\n",
    "\n",
    "print(features)\n",
    "# + features00 + features000 + features0000\n",
    " \n",
    "features2 = [x for x in range(0,24)]\n",
    "# features = features + features2  \n",
    "features = train_data.columns.values.tolist()\n",
    "\n",
    "training, testing = train_test_split(train_data, train_size=.50) \n",
    "# training.columns.values\n",
    "# print(training.columns.values,\"\\n\\n\", testing.columns.values)\n",
    "print(training.shape,\"\\n\\n\", testing.shape)\n",
    "# 'Thursday' in training.columns"
   ]
  },
  {
   "cell_type": "code",
   "execution_count": 21,
   "metadata": {
    "collapsed": false
   },
   "outputs": [
    {
     "name": "stdout",
     "output_type": "stream",
     "text": [
      "2.00652085003\n"
     ]
    }
   ],
   "source": [
    "#For this competition the metric used to rate the performance of the model\n",
    "#is the multi-class log_loss — smaller values of this loss correspond to improved performance.\n",
    "#Logistic Regression for comparison closer to 0 the better , cant use accuracy for regressions\n",
    "model_lr = LogisticRegression()\n",
    "model_lr.fit(training[features], training['crime'])\n",
    "predicted1 = np.array(model_lr.predict_proba(testing[features]))\n",
    "print(log_loss(testing['crime'], predicted1))"
   ]
  },
  {
   "cell_type": "code",
   "execution_count": 42,
   "metadata": {
    "collapsed": false
   },
   "outputs": [
    {
     "name": "stdout",
     "output_type": "stream",
     "text": [
      "[[  1.12437150e-27   2.79288914e-26   5.84845039e-12 ...,   4.21144581e-02\n",
      "    1.30928261e-01   3.00760170e-02]\n",
      " [  4.80860833e-13   6.45954695e-11   2.44796006e-06 ...,   2.56591679e-03\n",
      "    9.05278977e-04   2.78349084e-03]\n",
      " [  1.87066318e-16   4.27426377e-15   1.24354512e-07 ...,   4.12709910e-03\n",
      "    4.90751325e-02   1.19075576e-02]\n",
      " ..., \n",
      " [  7.92434766e-15   2.04128089e-13   1.91685651e-07 ...,   5.18327081e-03\n",
      "    2.60822166e-03   1.68559089e-03]\n",
      " [  1.05929632e-27   1.75113875e-26   3.49763907e-12 ...,   1.34923666e-02\n",
      "    2.42289169e-01   1.50710568e-02]\n",
      " [  8.22106019e-24   2.74428547e-22   9.20551767e-11 ...,   2.98972621e-01\n",
      "    4.54936338e-03   4.45575715e-03]]\n"
     ]
    }
   ],
   "source": [
    "print(predicted1)"
   ]
  },
  {
   "cell_type": "code",
   "execution_count": 13,
   "metadata": {
    "collapsed": false
   },
   "outputs": [
    {
     "name": "stdout",
     "output_type": "stream",
     "text": [
      "[0, 1, 2, 3, 4, 5, 6, 7, 8, 9, 10, 11, 12, 13, 14, 15, 16, 17, 18, 19, 20, 21, 22, 23, 'Friday', 'Monday', 'Saturday', 'Sunday', 'Tuesday', 'Wednesday', 'BAYVIEW', 'CENTRAL', 'INGLESIDE', 'MISSION', 'NORTHERN', 'PARK', 'RICHMOND', 'SOUTHERN', 'TARAVAL', 'TENDERLOIN', 'ARREST, BOOKED', 'ARREST, CITED', 'CLEARED-CONTACT JUVENILE FOR MORE INFO', 'EXCEPTIONAL CLEARANCE', 'JUVENILE BOOKED', 'LOCATED', 'NONE', 'PSYCHOPATHIC CASE', 'UNFOUNDED', '0', '32', \"[{'value': 'Clear'}]\", \"[{'value': 'Cloudy'}]\", \"[{'value': 'Light rain shower'}]\", \"[{'value': 'Overcast'}]\", \"[{'value': 'Partly cloudy'}]\", \"[{'value': 'Patchy rain possible'}]\", \"[{'value': 'Sunny'}]\", 'crime']\n",
      "(2096,) (2096, 59)\n",
      "Accuracy Score:  0.914183551847\n"
     ]
    }
   ],
   "source": [
    "print(training.columns.values.tolist())\n",
    "train_X =  train_data[training.columns.values.tolist()]\n",
    "train_y = train_data['crime']\n",
    "\n",
    "print(train_y.shape, train_X.shape)\n",
    "# split data into training and testing set\n",
    "X_train, X_test, y_train, y_test = train_test_split(train_X, train_y, test_size=0.4, random_state=1)\n",
    "    \n",
    "    \n",
    "\n",
    "knn = KNeighborsClassifier( n_neighbors = 10 ) \n",
    "knn.fit( train_X, train_y )\n",
    "y_predict = knn.predict(X_test)\n",
    "score = accuracy_score(y_test, y_predict)\n",
    "    \n",
    "print('Accuracy Score: ', score)"
   ]
  },
  {
   "cell_type": "code",
   "execution_count": 14,
   "metadata": {
    "collapsed": false
   },
   "outputs": [
    {
     "name": "stdout",
     "output_type": "stream",
     "text": [
      "k = 1, Accuracy Score: 1.0\n",
      "k = 5, Accuracy Score: 0.92252681764\n",
      "k = 10, Accuracy Score: 0.914183551847\n",
      "k = 20, Accuracy Score: 0.896305125149\n",
      "k = 40, Accuracy Score: 0.873659117998\n",
      "k = 80, Accuracy Score: 0.84147794994\n",
      "k = 150, Accuracy Score: 0.772348033373\n",
      "k = 200, Accuracy Score: 0.705601907032\n"
     ]
    }
   ],
   "source": [
    "k_list = [1,5,10,20,40,80,150,200]\n",
    "accuracies = []\n",
    "\n",
    "for k in k_list:\n",
    "    knn = KNeighborsClassifier( n_neighbors = k )\n",
    "    knn.fit( train_X, train_y )\n",
    "    y_predict = knn.predict(X_test)\n",
    "    score = accuracy_score(y_test, y_predict)\n",
    "    \n",
    "    accuracies.append(score)\n",
    "    \n",
    "for i, a in enumerate(accuracies):\n",
    "        print('k = ' + str(k_list[i]) + ', Accuracy Score: ' + str(accuracies[i])) "
   ]
  },
  {
   "cell_type": "markdown",
   "metadata": {},
   "source": [
    "## Naive Bayes"
   ]
  },
  {
   "cell_type": "code",
   "execution_count": 22,
   "metadata": {
    "collapsed": false
   },
   "outputs": [
    {
     "data": {
      "text/plain": [
       "4.3934001083600744"
      ]
     },
     "execution_count": 22,
     "metadata": {},
     "output_type": "execute_result"
    }
   ],
   "source": [
    "#bernoulliNB\n",
    "# predicting only on the training data\n",
    "model_B = BernoulliNB()\n",
    "model_B.fit(training[features], training['crime'])\n",
    "predicted2 = np.array(model_B.predict_proba(testing[features]))\n",
    "log_loss(testing['crime'], predicted2)"
   ]
  },
  {
   "cell_type": "code",
   "execution_count": null,
   "metadata": {
    "collapsed": true
   },
   "outputs": [],
   "source": []
  }
 ],
 "metadata": {
  "anaconda-cloud": {},
  "kernelspec": {
   "display_name": "Python [Root]",
   "language": "python",
   "name": "Python [Root]"
  },
  "language_info": {
   "codemirror_mode": {
    "name": "ipython",
    "version": 3
   },
   "file_extension": ".py",
   "mimetype": "text/x-python",
   "name": "python",
   "nbconvert_exporter": "python",
   "pygments_lexer": "ipython3",
   "version": "3.5.2"
  }
 },
 "nbformat": 4,
 "nbformat_minor": 0
}
